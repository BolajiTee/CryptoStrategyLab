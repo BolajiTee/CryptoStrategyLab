{
 "cells": [
  {
   "cell_type": "code",
   "execution_count": null,
   "metadata": {},
   "outputs": [],
   "source": [
    "import pandas as pd\n",
    "from utilities.data_manager import DataManager\n",
    "from utilities.backtest_analysis import BacktestAnalysis\n",
    "from strategies import envelope as strat"
   ]
  },
  {
   "cell_type": "code",
   "execution_count": null,
   "metadata": {},
   "outputs": [],
   "source": [
    "symbol = \"BTC/USDT:USDT\"\n",
    "data = DataManager(name=\"bitget\")\n",
    "ohlcv = data.load(symbol, timeframe=\"1h\", start_date=\"2021-01-02 00:00:00\")"
   ]
  },
  {
   "cell_type": "code",
   "execution_count": null,
   "metadata": {},
   "outputs": [],
   "source": [
    "strategy_params = {\n",
    "    'average_type': 'DCM',  # 'DCM', 'SMA', 'EMA', 'WMA',\n",
    "    'average_period': 6,\n",
    "    'envelopes': [0.07, 0.11, 0.14],\n",
    "    'stop_loss_pct': 0.4,\n",
    "    'price_jump_pct': 0.15,  # optional\n",
    "    'position_size_percentage': 100,  #  % of the balance spread equally across each envelope\n",
    "    # 'position_size_fixed_amount': 100, # fixed amount spread equally across each envelope\n",
    "    # 'mode': \"long\", \"short\", \"both\" (default)\n",
    "}\n",
    "strategy = strat.Strategy(strategy_params, ohlcv)\n",
    "strategy.run_backtest(initial_balance=1000, leverage=1, open_fee_rate=0.0002, close_fee_rate=0.0006)"
   ]
  },
  {
   "cell_type": "code",
   "execution_count": null,
   "metadata": {},
   "outputs": [],
   "source": [
    "strategy.trades_info\n",
    "# path = symbol.replace('/', '-').replace(':', '-') \n",
    "# strategy.save_trades_info(path)"
   ]
  },
  {
   "cell_type": "code",
   "execution_count": null,
   "metadata": {},
   "outputs": [],
   "source": [
    "strategy.equity_record\n",
    "# strategy.save_equity_record(path)"
   ]
  },
  {
   "cell_type": "code",
   "execution_count": null,
   "metadata": {},
   "outputs": [],
   "source": [
    "results = BacktestAnalysis(strategy)\n",
    "results.print_metrics()\n",
    "# path = \"...\"\n",
    "# results.print_metrics(path)"
   ]
  },
  {
   "cell_type": "code",
   "execution_count": null,
   "metadata": {},
   "outputs": [],
   "source": [
    "results.plot_equity()\n",
    "# results.plot_equity(path)\n",
    "\n",
    "results.plot_drawdown()\n",
    "# results.plot_drawdown(path)"
   ]
  },
  {
   "cell_type": "code",
   "execution_count": null,
   "metadata": {},
   "outputs": [],
   "source": [
    "results.plot_monthly_performance()\n",
    "# results.plot_monthly_performance(path)"
   ]
  },
  {
   "cell_type": "code",
   "execution_count": null,
   "metadata": {},
   "outputs": [],
   "source": [
    "indicators = {\n",
    "    'average': {\n",
    "        'color': \"white\",\n",
    "        'df': pd.DataFrame({\n",
    "            'time': strategy.data.index,\n",
    "            'average': strategy.data['average'],\n",
    "        }).dropna()        \n",
    "    } \n",
    "}\n",
    "\n",
    "for i, e in enumerate(strategy_params['envelopes']):\n",
    "    indicators.update({\n",
    "        f'band_high_{i+1}' : {\n",
    "            'color': \"red\",\n",
    "            'df': pd.DataFrame({\n",
    "                'time': strategy.data.index,\n",
    "                f'band_high_{i+1}': strategy.data[f'band_high_{i+1}'],\n",
    "            }).dropna()   \n",
    "        },\n",
    "        f'band_low_{i+1}' : {\n",
    "            'color': \"green\",\n",
    "            'df': pd.DataFrame({\n",
    "                'time': strategy.data.index,\n",
    "                f'band_low_{i+1}': strategy.data[f'band_low_{i+1}'],\n",
    "            }).dropna()  \n",
    "        },\n",
    "    })\n",
    "\n",
    "results.plot_candlestick(indicators=indicators)"
   ]
  }
 ],
 "metadata": {
  "kernelspec": {
   "display_name": "Python 3",
   "language": "python",
   "name": "python3"
  },
  "language_info": {
   "codemirror_mode": {
    "name": "ipython",
    "version": 3
   },
   "file_extension": ".py",
   "mimetype": "text/x-python",
   "name": "python",
   "nbconvert_exporter": "python",
   "pygments_lexer": "ipython3",
   "version": "3.12.0"
  }
 },
 "nbformat": 4,
 "nbformat_minor": 2
}
