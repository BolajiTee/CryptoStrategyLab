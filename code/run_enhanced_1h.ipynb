{
 "cells": [
  {
   "cell_type": "markdown",
   "metadata": {},
   "source": [
    "# Enhanced 1-Hour Trading Strategy Analysis\n",
    "\n",
    "This notebook runs and analyzes the performance of our enhanced 1-hour trading strategy."
   ]
  },
  {
   "cell_type": "code",
   "execution_count": null,
   "metadata": {},
   "outputs": [],
   "source": [
    "import sys\n",
    "import pandas as pd\n",
    "import numpy as np\n",
    "import matplotlib.pyplot as plt\n",
    "import seaborn as sns\n",
    "from datetime import datetime, timedelta\n",
    "\n",
    "# Add the project root to the Python path\n",
    "sys.path.append('..')\n",
    "\n",
    "# Import strategy and data loading utilities\n",
    "from code.strategies.enhanced_1h_strategy import Strategy\n",
    "from utilities.data_manager import DataManager"
   ]
  },
  {
   "cell_type": "markdown",
   "metadata": {},
   "source": [
    "## Load and Prepare Data\n",
    "\n",
    "We'll load 1-hour OHLCV data for our analysis."
   ]
  },
  {
   "cell_type": "code",
   "execution_count": null,
   "metadata": {},
   "outputs": [],
   "source": [
    "# Load data\n",
    "symbol = 'BTCUSDT'\n",
    "start_date = '2023-01-01'\n",
    "end_date = '2023-12-31'\n",
    "\n",
    "# Load data\n",
    "data_manager = DataManager(\"binance\")\n",
    "df = data_manager.load(\"BTC/USDT\", \"1h\", start_date=\"2023-01-01\", end_date=\"2023-12-31\")\n",
    "\n",
    "print(f\"Data shape: {df.shape}\")\n",
    "df.head()"
   ]
  },
  {
   "cell_type": "markdown",
   "metadata": {},
   "source": [
    "## Initialize and Run Strategy\n",
    "\n",
    "We'll initialize the strategy with optimized parameters for 1-hour trading."
   ]
  },
  {
   "cell_type": "code",
   "execution_count": null,
   "metadata": {},
   "outputs": [],
   "source": [
    "# Strategy parameters optimized for 1-hour timeframe\n",
    "params = {\n",
    "    'mode': 'both',  # Trade both long and short\n",
    "    'max_open_positions': 3,\n",
    "    'max_daily_loss_pct': 2.0,\n",
    "    'max_position_size_pct': 5.0,\n",
    "    'trailing_stop_pct': 1.0,\n",
    "    'break_even_pct': 0.5,\n",
    "    'max_trades_per_day': 15\n",
    "}\n",
    "\n",
    "# Initialize strategy\n",
    "strategy = Strategy(params, df)\n",
    "\n",
    "# Run backtest\n",
    "initial_balance = 10000  # Starting with $10,000\n",
    "leverage = 1  # No leverage for initial testing\n",
    "open_fee_rate = 0.001  # 0.1% trading fee\n",
    "close_fee_rate = 0.001  # 0.1% trading fee\n",
    "\n",
    "strategy.run_backtest(\n",
    "    initial_balance=initial_balance,\n",
    "    leverage=leverage,\n",
    "    open_fee_rate=open_fee_rate,\n",
    "    close_fee_rate=close_fee_rate\n",
    ")"
   ]
  },
  {
   "cell_type": "markdown",
   "metadata": {},
   "source": [
    "## Performance Analysis\n",
    "\n",
    "Let's analyze the strategy's performance with various metrics and visualizations."
   ]
  },
  {
   "cell_type": "code",
   "execution_count": null,
   "metadata": {},
   "outputs": [],
   "source": [
    "def calculate_performance_metrics(trades_df, equity_df, initial_balance):\n",
    "    # Basic metrics\n",
    "    total_trades = len(trades_df)\n",
    "    winning_trades = len(trades_df[trades_df['net_pnl'] > 0])\n",
    "    win_rate = winning_trades / total_trades if total_trades > 0 else 0\n",
    "    \n",
    "    # PnL metrics\n",
    "    total_pnl = trades_df['net_pnl'].sum()\n",
    "    avg_win = trades_df[trades_df['net_pnl'] > 0]['net_pnl'].mean() if winning_trades > 0 else 0\n",
    "    avg_loss = trades_df[trades_df['net_pnl'] < 0]['net_pnl'].mean() if len(trades_df[trades_df['net_pnl'] < 0]) > 0 else 0\n",
    "    profit_factor = abs(trades_df[trades_df['net_pnl'] > 0]['net_pnl'].sum() / \n",
    "                       trades_df[trades_df['net_pnl'] < 0]['net_pnl'].sum()) if len(trades_df[trades_df['net_pnl'] < 0]) > 0 else float('inf')\n",
    "    \n",
    "    # Risk metrics\n",
    "    max_drawdown = (equity_df['equity'].cummax() - equity_df['equity']).max() / equity_df['equity'].cummax()\n",
    "    sharpe_ratio = (equity_df['equity'].pct_change().mean() / equity_df['equity'].pct_change().std()) * np.sqrt(252)  # Annualized\n",
    "    \n",
    "    # Time-based metrics\n",
    "    avg_trade_duration = (trades_df['close_time'] - trades_df['open_time']).mean()\n",
    "    \n",
    "    return {\n",
    "        'Total Trades': total_trades,\n",
    "        'Win Rate': f\"{win_rate:.2%}\",\n",
    "        'Total PnL': f\"${total_pnl:,.2f}\",\n",
    "        'Average Win': f\"${avg_win:,.2f}\",\n",
    "        'Average Loss': f\"${avg_loss:,.2f}\",\n",
    "        'Profit Factor': f\"{profit_factor:.2f}\",\n",
    "        'Max Drawdown': f\"{max_drawdown:.2%}\",\n",
    "        'Sharpe Ratio': f\"{sharpe_ratio:.2f}\",\n",
    "        'Average Trade Duration': str(avg_trade_duration),\n",
    "        'Final Balance': f\"${strategy.final_equity:,.2f}\",\n",
    "        'Total Return': f\"{(strategy.final_equity - initial_balance) / initial_balance:.2%}\"\n",
    "    }\n",
    "\n",
    "# Calculate and display metrics\n",
    "metrics = calculate_performance_metrics(strategy.trades_info, strategy.equity_record, initial_balance)\n",
    "pd.DataFrame.from_dict(metrics, orient='index', columns=['Value'])"
   ]
  },
  {
   "cell_type": "markdown",
   "metadata": {},
   "source": [
    "## Visualizations\n",
    "\n",
    "Let's create some visualizations to better understand the strategy's performance."
   ]
  },
  {
   "cell_type": "code",
   "execution_count": null,
   "metadata": {},
   "outputs": [],
   "source": [
    "def plot_equity_curve(equity_df):\n",
    "    plt.figure(figsize=(15, 7))\n",
    "    plt.plot(equity_df.index, equity_df['equity'], label='Equity Curve')\n",
    "    plt.title('Strategy Equity Curve')\n",
    "    plt.xlabel('Date')\n",
    "    plt.ylabel('Equity ($)')\n",
    "    plt.grid(True)\n",
    "    plt.legend()\n",
    "    plt.show()\n",
    "\n",
    "def plot_drawdown(equity_df):\n",
    "    drawdown = (equity_df['equity'].cummax() - equity_df['equity']) / equity_df['equity'].cummax()\n",
    "    plt.figure(figsize=(15, 7))\n",
    "    plt.plot(equity_df.index, drawdown, label='Drawdown', color='red')\n",
    "    plt.title('Strategy Drawdown')\n",
    "    plt.xlabel('Date')\n",
    "    plt.ylabel('Drawdown')\n",
    "    plt.grid(True)\n",
    "    plt.legend()\n",
    "    plt.show()\n",
    "\n",
    "def plot_trade_distribution(trades_df):\n",
    "    plt.figure(figsize=(15, 7))\n",
    "    sns.histplot(data=trades_df, x='net_pnl', bins=50)\n",
    "    plt.title('Trade PnL Distribution')\n",
    "    plt.xlabel('PnL ($)')\n",
    "    plt.ylabel('Frequency')\n",
    "    plt.grid(True)\n",
    "    plt.show()\n",
    "\n",
    "def plot_monthly_returns(equity_df):\n",
    "    monthly_returns = equity_df['equity'].resample('M').last().pct_change()\n",
    "    plt.figure(figsize=(15, 7))\n",
    "    monthly_returns.plot(kind='bar')\n",
    "    plt.title('Monthly Returns')\n",
    "    plt.xlabel('Month')\n",
    "    plt.ylabel('Return')\n",
    "    plt.grid(True)\n",
    "    plt.show()\n",
    "\n",
    "# Create visualizations\n",
    "plot_equity_curve(strategy.equity_record)\n",
    "plot_drawdown(strategy.equity_record)\n",
    "plot_trade_distribution(strategy.trades_info)\n",
    "plot_monthly_returns(strategy.equity_record)"
   ]
  },
  {
   "cell_type": "markdown",
   "metadata": {},
   "source": [
    "## Market Regime Analysis\n",
    "\n",
    "Let's analyze how the strategy performs in different market regimes."
   ]
  },
  {
   "cell_type": "code",
   "execution_count": null,
   "metadata": {},
   "outputs": [],
   "source": [
    "def analyze_market_regimes(trades_df):\n",
    "    regime_performance = trades_df.groupby('market_regime').agg({\n",
    "        'net_pnl': ['count', 'sum', 'mean'],\n",
    "        'duration': 'mean'\n",
    "    }).round(2)\n",
    "    \n",
    "    regime_performance.columns = ['Number of Trades', 'Total PnL', 'Average PnL', 'Average Duration']\n",
    "    return regime_performance\n",
    "\n",
    "# Display market regime analysis\n",
    "analyze_market_regimes(strategy.trades_info)"
   ]
  },
  {
   "cell_type": "markdown",
   "metadata": {},
   "source": [
    "## Risk Management Analysis\n",
    "\n",
    "Let's analyze how our risk management rules are performing."
   ]
  },
  {
   "cell_type": "code",
   "execution_count": null,
   "metadata": {},
   "outputs": [],
   "source": [
    "def analyze_risk_management(trades_df):\n",
    "    # Analyze stop losses\n",
    "    sl_trades = trades_df[trades_df['close_reason'].str.contains('SL')]\n",
    "    sl_percentage = len(sl_trades) / len(trades_df) if len(trades_df) > 0 else 0\n",
    "    \n",
    "    # Analyze daily loss limits\n",
    "    daily_pnl = trades_df.groupby(trades_df['close_time'].dt.date)['net_pnl'].sum()\n",
    "    days_hit_loss_limit = len(daily_pnl[daily_pnl < -initial_balance * (params['max_daily_loss_pct'] / 100)])\n",
    "    \n",
    "    # Analyze position sizing\n",
    "    avg_position_size = trades_df['position_size'].mean()\n",
    "    max_position_size = trades_df['position_size'].max()\n",
    "    \n",
    "    return {\n",
    "        'Stop Loss Percentage': f\"{sl_percentage:.2%}\",\n",
    "        'Days Hit Loss Limit': days_hit_loss_limit,\n",
    "        'Average Position Size': f\"${avg_position_size:,.2f}\",\n",
    "        'Maximum Position Size': f\"${max_position_size:,.2f}\"\n",
    "    }\n",
    "\n",
    "# Display risk management analysis\n",
    "pd.DataFrame.from_dict(analyze_risk_management(strategy.trades_info), orient='index', columns=['Value'])"
   ]
  },
  {
   "cell_type": "markdown",
   "metadata": {},
   "source": [
    "## Save Results\n",
    "\n",
    "Let's save the backtest results for future reference."
   ]
  },
  {
   "cell_type": "code",
   "execution_count": null,
   "metadata": {},
   "outputs": [],
   "source": [
    "# Save equity record and trades info\n",
    "strategy.save_equity_record('enhanced_1h_strategy')\n",
    "strategy.save_trades_info('enhanced_1h_strategy')\n",
    "\n",
    "print(\"Results saved successfully!\")"
   ]
  }
 ],
 "metadata": {
  "kernelspec": {
   "display_name": "base",
   "language": "python",
   "name": "python3"
  },
  "language_info": {
   "name": "python",
   "version": "3.12.7"
  }
 },
 "nbformat": 4,
 "nbformat_minor": 2
}
